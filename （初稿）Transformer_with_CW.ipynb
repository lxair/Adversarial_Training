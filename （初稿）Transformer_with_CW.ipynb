{
 "cells": [
  {
   "cell_type": "code",
   "execution_count": 1,
   "metadata": {},
   "outputs": [
    {
     "name": "stdout",
     "output_type": "stream",
     "text": [
      "ModuleNotFoundError. CatBoostModel are skipped. (optional: maybe installing CatBoostModel can fix it.)\n",
      "ModuleNotFoundError. XGBModel is skipped(optional: maybe installing xgboost can fix it).\n"
     ]
    },
    {
     "name": "stderr",
     "output_type": "stream",
     "text": [
      "/home/shared/anaconda3/envs/seg/lib/python3.8/site-packages/tqdm/auto.py:22: TqdmWarning: IProgress not found. Please update jupyter and ipywidgets. See https://ipywidgets.readthedocs.io/en/stable/user_install.html\n",
      "  from .autonotebook import tqdm as notebook_tqdm\n",
      "[25296:MainThread](2023-06-21 13:20:38,627) INFO - qlib.Initialization - [config.py:413] - default_conf: client.\n",
      "[25296:MainThread](2023-06-21 13:20:38,631) INFO - qlib.workflow - [expm.py:31] - experiment manager uri is at file:/home/shared/qlib-main/mlruns\n",
      "[25296:MainThread](2023-06-21 13:20:38,633) INFO - qlib.Initialization - [__init__.py:74] - qlib successfully initialized based on client settings.\n",
      "[25296:MainThread](2023-06-21 13:20:38,634) INFO - qlib.Initialization - [__init__.py:76] - data_path={'__DEFAULT_FREQ': PosixPath('/home/shared/qlib-main/qlib_data/cn_data')}\n",
      "[25296:MainThread](2023-06-21 13:20:38,865) INFO - qlib.TransformerModel - [pytorch_transformer_ts_cw.py:77] - Naive Transformer:\n",
      "batch_size : 4096\n",
      "device : cuda:2\n",
      "[25296:MainThread](2023-06-21 13:21:36,224) INFO - qlib.timer - [log.py:117] - Time cost: 53.939s | Loading data Done\n",
      "[25296:MainThread](2023-06-21 13:21:37,027) INFO - qlib.timer - [log.py:117] - Time cost: 0.038s | FilterCol Done\n",
      "[25296:MainThread](2023-06-21 13:21:38,382) INFO - qlib.timer - [log.py:117] - Time cost: 1.353s | RobustZScoreNorm Done\n",
      "[25296:MainThread](2023-06-21 13:21:38,445) INFO - qlib.timer - [log.py:117] - Time cost: 0.059s | Fillna Done\n",
      "[25296:MainThread](2023-06-21 13:21:38,545) INFO - qlib.timer - [log.py:117] - Time cost: 0.061s | DropnaLabel Done\n",
      "[25296:MainThread](2023-06-21 13:21:38,868) INFO - qlib.timer - [log.py:117] - Time cost: 0.320s | CSRankNorm Done\n",
      "[25296:MainThread](2023-06-21 13:21:38,870) INFO - qlib.timer - [log.py:117] - Time cost: 2.643s | fit & process data Done\n",
      "[25296:MainThread](2023-06-21 13:21:38,871) INFO - qlib.timer - [log.py:117] - Time cost: 56.586s | Init data Done\n"
     ]
    }
   ],
   "source": [
    "import sys\n",
    "from pathlib import Path\n",
    "import qlib\n",
    "import pandas as pd\n",
    "from qlib.config import REG_CN\n",
    "from qlib.contrib.model.gbdt import LGBModel\n",
    "from qlib.contrib.data.handler import Alpha360\n",
    "from qlib.utils import init_instance_by_config\n",
    "from qlib.contrib.strategy import TopkDropoutStrategy\n",
    "from qlib.contrib.report import analysis_model, analysis_position\n",
    "# from qlib.contrib.evaluate import (\n",
    "#     backtest as normal_backtest,\n",
    "#     risk_analysis,\n",
    "# )\n",
    "from qlib.utils import exists_qlib_data, init_instance_by_config, flatten_dict\n",
    "from qlib.workflow import R\n",
    "from qlib.workflow.record_temp import SignalRecord, PortAnaRecord\n",
    "from qlib.utils import flatten_dict\n",
    "from qlib.data.dataset.loader import QlibDataLoader\n",
    "from qlib.contrib.data.handler import Alpha158   #Alpha158内置指标体系\n",
    "from qlib.data.dataset.loader import QlibDataLoader\n",
    "import qlib\n",
    "from qlib.contrib.data.handler import Alpha158   #Alpha158内置指标体系\n",
    "\n",
    "\n",
    "provider_uri = \"./qlib_data/cn_data\"  # 原始行情数据存放目录\n",
    "qlib.init(provider_uri=provider_uri, region=REG_CN)  # 初始化\n",
    "market = \"csi300\"\n",
    "benchmark = \"SH000300\"\n",
    "\n",
    "#数据处理器参数配置\n",
    "data_handler_config = {\n",
    "    \"start_time\": \"2008-01-01\",\n",
    "    \"end_time\": \"2020-08-01\",\n",
    "    \"fit_start_time\": \"2008-01-01\",\n",
    "    \"fit_end_time\": \"2014-12-31\",\n",
    "    # \"start_time\": \"2020-01-01\",\n",
    "    # \"end_time\": \"2020-02-21\",\n",
    "    # \"fit_start_time\": \"2020-01-01\",  # 模型跑数据的开始时间\n",
    "    # \"fit_end_time\": \"2020-01-31\",\n",
    "    \"instruments\": market,\n",
    "    \"infer_processors\" : [\n",
    "                                    {'class': 'FilterCol',\n",
    "                                     'kwargs': {'fields_group': 'feature', \n",
    "                                                'col_list': [\"RESI5\", \"WVMA5\", \"RSQR5\", \"KLEN\", \"RSQR10\", \"CORR5\", \"CORD5\", \"CORR10\", \n",
    "                            \"ROC60\", \"RESI10\", \"VSTD5\", \"RSQR60\", \"CORR60\", \"WVMA60\", \"STD5\", \n",
    "                            \"RSQR20\", \"CORD60\", \"CORD10\", \"CORR20\", \"KLOW\"\n",
    "                        ]\n",
    "                                     }},\n",
    "                                    {'class': 'RobustZScoreNorm', # RobustZScoreNorm和Fillna，用于进行标准化和填充缺失值。\n",
    "                                     'kwargs': {'fields_group': 'feature', \n",
    "                                                'clip_outlier': True}},\n",
    "                                    {'class': 'Fillna', \n",
    "                                     'kwargs': {'fields_group': 'feature'}}],\n",
    "    \"learn_processors\": [{'class': 'DropnaLabel'}, #DropnaLabel删除标注中含有缺失值的样本。\n",
    "\n",
    "                                    # 对预测的目标进行截面排序处理  DropnaLabel 和 CSRankNorm 预处理器，用于对标签进行处理。\n",
    "                                    {'class': 'CSRankNorm', 'kwargs': {'fields_group': 'label'}}],\n",
    "\n",
    "                                    # 预测的目标\n",
    "                                    'label': [\"Ref($close, -2) / Ref($close, -1) - 1\"] ,#下一日收益率, Ref($close, -1)表示下一日收盘价\n",
    "                                    \n",
    "}\n",
    "    \n",
    "# 任务参数配置\n",
    "task = {\n",
    "    \"model\": {  # 模型参数配置\n",
    "        # 模型类\n",
    "        \"class\": \"TransformerModel\",\n",
    "        # 模型类所在模块\n",
    "        \"module_path\": \"qlib.contrib.model.pytorch_transformer_ts_cw\",\n",
    "        \"kwargs\": {  # 模型超参数配置\n",
    "            'seed': 0,\n",
    "            'n_jobs': 20,\n",
    "            'GPU':2\n",
    "        }, \n",
    "    },\n",
    "    \"dataset\": {  # 　因子库数据集参数配置\n",
    "        # 数据集类，是Dataset with Data(H)andler的缩写，即带数据处理器的数据集\n",
    "        \"class\": \"TSDatasetH\",\n",
    "        # 数据集类所在模块\n",
    "        \"module_path\": \"qlib.data.dataset\",\n",
    "        \"kwargs\": {  # 数据集参数配置\n",
    "            \"handler\": {  # 数据集使用的数据处理器配置\n",
    "                #\"class\": \"Alpha158\",  # 数据处理器类，继承自DataHandlerLP\n",
    "                \"module_path\": \"qlib.contrib.data.handler\",  # 数据处理器类所在模块\n",
    "                \"class\": \"Alpha158\",\n",
    "                \"kwargs\": data_handler_config,  # 数据处理器参数配置\n",
    "            },\n",
    "            \"segments\": {  # 数据集划分标准\n",
    "                \"train\": (\"2008-01-01\", \"2014-12-31\"), # 此时段的数据为训练集\n",
    "                \"valid\": (\"2015-01-01\", \"2016-12-31\"), # 此时段的数据为验证集\n",
    "                \"test\": (\"2017-01-01\", \"2020-08-01\"),  # 此时段的数据为测试集\n",
    "                # \"train\": (\"2020-01-01\", \"2020-01-31\"),  # 此时段的数据为训练集\n",
    "                # \"valid\": (\"2020-01-31\", \"2020-02-20\"),  # 此时段的数据为验证集\n",
    "                # \"test\": (\"2020-02-20\", \"2020-02-21\"),  # 此时段的数据为测试集\n",
    "            },\n",
    "        },\n",
    "    },\n",
    "\n",
    "}\n",
    "\n",
    "# 实例化模型对象\n",
    "model = init_instance_by_config(task[\"model\"])\n",
    "\n",
    "# 实例化因子库数据集，从基础行情数据计算出的包含所有特征（因子）和标签值的数据集。\n",
    "dataset = init_instance_by_config(task[\"dataset\"])  # DatasetH"
   ]
  },
  {
   "cell_type": "code",
   "execution_count": 2,
   "metadata": {},
   "outputs": [
    {
     "name": "stderr",
     "output_type": "stream",
     "text": [
      "[25296:MainThread](2023-06-21 13:21:39,022) INFO - qlib.workflow - [expm.py:316] - <mlflow.tracking.client.MlflowClient object at 0x7feb8ca55220>\n",
      "[25296:MainThread](2023-06-21 13:21:39,033) INFO - qlib.workflow - [exp.py:260] - Experiment 1 starts running ...\n",
      "[25296:MainThread](2023-06-21 13:21:39,537) INFO - qlib.workflow - [recorder.py:339] - Recorder fa899b865999493fb797f54b577c98b7 starts running under Experiment 1 ...\n",
      "Not a git repository\n",
      "To compare two paths outside a working tree:\n",
      "usage: git diff [--no-index] <path> <path>\n",
      "[25296:MainThread](2023-06-21 13:21:39,670) INFO - qlib.workflow - [recorder.py:372] - Fail to log the uncommitted code of $CWD when run `git diff`\n",
      "fatal: 不是一个 git 仓库（或者直至挂载点 / 的任何父目录）\n",
      "停止在文件系统边界（未设置 GIT_DISCOVERY_ACROSS_FILESYSTEM）。\n",
      "[25296:MainThread](2023-06-21 13:21:39,813) INFO - qlib.workflow - [recorder.py:372] - Fail to log the uncommitted code of $CWD when run `git status`\n",
      "Not a git repository\n",
      "To compare two paths outside a working tree:\n",
      "usage: git diff [--no-index] <path> <path>\n",
      "[25296:MainThread](2023-06-21 13:21:39,961) INFO - qlib.workflow - [recorder.py:372] - Fail to log the uncommitted code of $CWD when run `git diff --cached`\n",
      "[25296:MainThread](2023-06-21 13:21:42,304) INFO - qlib.TransformerModel - [pytorch_transformer_ts_cw.py:285] - training...\n",
      "[25296:MainThread](2023-06-21 13:21:42,306) INFO - qlib.TransformerModel - [pytorch_transformer_ts_cw.py:289] - Epoch0:\n",
      "[25296:MainThread](2023-06-21 13:21:42,307) INFO - qlib.TransformerModel - [pytorch_transformer_ts_cw.py:290] - training...\n",
      "[25296:MainThread](2023-06-22 00:51:40,902) INFO - qlib.TransformerModel - [pytorch_transformer_ts_cw.py:292] - evaluating...\n",
      "[25296:MainThread](2023-06-22 00:52:26,594) INFO - qlib.TransformerModel - [pytorch_transformer_ts_cw.py:295] - train -1.000340, valid -1.003275\n",
      "[25296:MainThread](2023-06-22 00:52:26,605) INFO - qlib.TransformerModel - [pytorch_transformer_ts_cw.py:289] - Epoch1:\n",
      "[25296:MainThread](2023-06-22 00:52:26,607) INFO - qlib.TransformerModel - [pytorch_transformer_ts_cw.py:290] - training...\n"
     ]
    },
    {
     "name": "stdout",
     "output_type": "stream",
     "text": [
      "<torch.utils.tensorboard.writer.SummaryWriter object at 0x7fea203e6520>\n"
     ]
    },
    {
     "name": "stderr",
     "output_type": "stream",
     "text": [
      "[25296:MainThread](2023-06-22 06:39:33,766) INFO - qlib.TransformerModel - [pytorch_transformer_ts_cw.py:292] - evaluating...\n",
      "[25296:MainThread](2023-06-22 06:40:17,237) INFO - qlib.TransformerModel - [pytorch_transformer_ts_cw.py:295] - train -0.998177, valid -0.999857\n",
      "[25296:MainThread](2023-06-22 06:40:17,244) INFO - qlib.TransformerModel - [pytorch_transformer_ts_cw.py:289] - Epoch2:\n",
      "[25296:MainThread](2023-06-22 06:40:17,246) INFO - qlib.TransformerModel - [pytorch_transformer_ts_cw.py:290] - training...\n"
     ]
    },
    {
     "name": "stdout",
     "output_type": "stream",
     "text": [
      "<torch.utils.tensorboard.writer.SummaryWriter object at 0x7fea203e6520>\n"
     ]
    },
    {
     "name": "stderr",
     "output_type": "stream",
     "text": [
      "[25296:MainThread](2023-06-22 12:28:14,470) INFO - qlib.TransformerModel - [pytorch_transformer_ts_cw.py:292] - evaluating...\n",
      "[25296:MainThread](2023-06-22 12:28:59,147) INFO - qlib.TransformerModel - [pytorch_transformer_ts_cw.py:295] - train -0.991719, valid -0.994818\n",
      "[25296:MainThread](2023-06-22 12:28:59,156) INFO - qlib.TransformerModel - [pytorch_transformer_ts_cw.py:289] - Epoch3:\n",
      "[25296:MainThread](2023-06-22 12:28:59,158) INFO - qlib.TransformerModel - [pytorch_transformer_ts_cw.py:290] - training...\n"
     ]
    },
    {
     "name": "stdout",
     "output_type": "stream",
     "text": [
      "<torch.utils.tensorboard.writer.SummaryWriter object at 0x7fea203e6520>\n"
     ]
    },
    {
     "name": "stderr",
     "output_type": "stream",
     "text": [
      "[25296:MainThread](2023-06-22 18:16:49,460) INFO - qlib.TransformerModel - [pytorch_transformer_ts_cw.py:292] - evaluating...\n",
      "[25296:MainThread](2023-06-22 18:17:32,704) INFO - qlib.TransformerModel - [pytorch_transformer_ts_cw.py:295] - train -0.991857, valid -0.995878\n",
      "[25296:MainThread](2023-06-22 18:17:32,712) INFO - qlib.TransformerModel - [pytorch_transformer_ts_cw.py:289] - Epoch4:\n",
      "[25296:MainThread](2023-06-22 18:17:32,715) INFO - qlib.TransformerModel - [pytorch_transformer_ts_cw.py:290] - training...\n"
     ]
    },
    {
     "name": "stdout",
     "output_type": "stream",
     "text": [
      "<torch.utils.tensorboard.writer.SummaryWriter object at 0x7fea203e6520>\n"
     ]
    },
    {
     "name": "stderr",
     "output_type": "stream",
     "text": [
      "[25296:MainThread](2023-06-23 00:07:30,127) INFO - qlib.TransformerModel - [pytorch_transformer_ts_cw.py:292] - evaluating...\n",
      "[25296:MainThread](2023-06-23 00:08:13,813) INFO - qlib.TransformerModel - [pytorch_transformer_ts_cw.py:295] - train -0.997573, valid -1.001482\n",
      "[25296:MainThread](2023-06-23 00:08:13,817) INFO - qlib.TransformerModel - [pytorch_transformer_ts_cw.py:289] - Epoch5:\n",
      "[25296:MainThread](2023-06-23 00:08:13,818) INFO - qlib.TransformerModel - [pytorch_transformer_ts_cw.py:290] - training...\n"
     ]
    },
    {
     "name": "stdout",
     "output_type": "stream",
     "text": [
      "<torch.utils.tensorboard.writer.SummaryWriter object at 0x7fea203e6520>\n"
     ]
    },
    {
     "name": "stderr",
     "output_type": "stream",
     "text": [
      "[25296:MainThread](2023-06-23 06:03:26,704) INFO - qlib.TransformerModel - [pytorch_transformer_ts_cw.py:292] - evaluating...\n",
      "[25296:MainThread](2023-06-23 06:04:10,259) INFO - qlib.TransformerModel - [pytorch_transformer_ts_cw.py:295] - train -0.991359, valid -0.996485\n",
      "[25296:MainThread](2023-06-23 06:04:10,263) INFO - qlib.TransformerModel - [pytorch_transformer_ts_cw.py:289] - Epoch6:\n",
      "[25296:MainThread](2023-06-23 06:04:10,265) INFO - qlib.TransformerModel - [pytorch_transformer_ts_cw.py:290] - training...\n"
     ]
    },
    {
     "name": "stdout",
     "output_type": "stream",
     "text": [
      "<torch.utils.tensorboard.writer.SummaryWriter object at 0x7fea203e6520>\n"
     ]
    },
    {
     "name": "stderr",
     "output_type": "stream",
     "text": [
      "[25296:MainThread](2023-06-23 12:05:54,537) INFO - qlib.TransformerModel - [pytorch_transformer_ts_cw.py:292] - evaluating...\n",
      "[25296:MainThread](2023-06-23 12:06:37,887) INFO - qlib.TransformerModel - [pytorch_transformer_ts_cw.py:295] - train -1.002068, valid -1.005956\n",
      "[25296:MainThread](2023-06-23 12:06:37,892) INFO - qlib.TransformerModel - [pytorch_transformer_ts_cw.py:289] - Epoch7:\n",
      "[25296:MainThread](2023-06-23 12:06:37,893) INFO - qlib.TransformerModel - [pytorch_transformer_ts_cw.py:290] - training...\n"
     ]
    },
    {
     "name": "stdout",
     "output_type": "stream",
     "text": [
      "<torch.utils.tensorboard.writer.SummaryWriter object at 0x7fea203e6520>\n"
     ]
    },
    {
     "name": "stderr",
     "output_type": "stream",
     "text": [
      "[25296:MainThread](2023-06-24 11:20:45,400) INFO - qlib.TransformerModel - [pytorch_transformer_ts_cw.py:292] - evaluating...\n",
      "[25296:MainThread](2023-06-24 11:21:28,587) INFO - qlib.TransformerModel - [pytorch_transformer_ts_cw.py:295] - train -0.991997, valid -0.996173\n",
      "[25296:MainThread](2023-06-24 11:21:28,589) INFO - qlib.TransformerModel - [pytorch_transformer_ts_cw.py:307] - early stop\n",
      "[25296:MainThread](2023-06-24 11:21:28,590) INFO - qlib.TransformerModel - [pytorch_transformer_ts_cw.py:317] - best score: -0.994818 @ 2\n",
      "[25296:MainThread](2023-06-24 11:21:28,907) INFO - qlib.timer - [log.py:117] - Time cost: 0.000s | waiting `async_log` Done\n"
     ]
    }
   ],
   "source": [
    "# start exp to train model\n",
    "with R.start(experiment_name=\"train_model\"):\n",
    "    R.log_params(**flatten_dict(task))\n",
    "    model.fit(dataset)\n",
    "    R.save_objects(trained_model=model)\n",
    "    rid = R.get_recorder().id"
   ]
  },
  {
   "cell_type": "code",
   "execution_count": null,
   "metadata": {},
   "outputs": [],
   "source": []
  },
  {
   "cell_type": "code",
   "execution_count": 3,
   "metadata": {},
   "outputs": [
    {
     "name": "stderr",
     "output_type": "stream",
     "text": [
      "[25296:MainThread](2023-06-24 11:21:28,949) INFO - qlib.workflow - [expm.py:316] - <mlflow.tracking.client.MlflowClient object at 0x7fea203d6d90>\n",
      "[25296:MainThread](2023-06-24 11:21:28,958) INFO - qlib.workflow - [exp.py:260] - Experiment 2 starts running ...\n",
      "[25296:MainThread](2023-06-24 11:21:28,984) INFO - qlib.workflow - [recorder.py:339] - Recorder f7dacf9d4f7e4f6f827b4594d337eef3 starts running under Experiment 2 ...\n",
      "Not a git repository\n",
      "To compare two paths outside a working tree:\n",
      "usage: git diff [--no-index] <path> <path>\n",
      "[25296:MainThread](2023-06-24 11:21:29,166) INFO - qlib.workflow - [recorder.py:372] - Fail to log the uncommitted code of $CWD when run `git diff`\n",
      "fatal: 不是一个 git 仓库（或者直至挂载点 / 的任何父目录）\n",
      "停止在文件系统边界（未设置 GIT_DISCOVERY_ACROSS_FILESYSTEM）。\n",
      "[25296:MainThread](2023-06-24 11:21:29,337) INFO - qlib.workflow - [recorder.py:372] - Fail to log the uncommitted code of $CWD when run `git status`\n",
      "Not a git repository\n",
      "To compare two paths outside a working tree:\n",
      "usage: git diff [--no-index] <path> <path>\n",
      "[25296:MainThread](2023-06-24 11:21:29,522) INFO - qlib.workflow - [recorder.py:372] - Fail to log the uncommitted code of $CWD when run `git diff --cached`\n",
      "[25296:MainThread](2023-06-24 11:21:35,827) INFO - qlib.workflow - [record_temp.py:194] - Signal record 'pred.pkl' has been saved as the artifact of the Experiment 2\n"
     ]
    },
    {
     "name": "stdout",
     "output_type": "stream",
     "text": [
      "'The following are prediction results of the TransformerModel model.'\n",
      "                          score\n",
      "datetime   instrument          \n",
      "2017-01-03 SH600000   -0.018606\n",
      "           SH600008    0.043327\n",
      "           SH600009    0.097937\n",
      "           SH600010    0.057394\n",
      "           SH600015    0.024099\n"
     ]
    },
    {
     "name": "stderr",
     "output_type": "stream",
     "text": [
      "[25296:MainThread](2023-06-24 11:21:37,703) INFO - qlib.backtest caller - [__init__.py:94] - Create new exchange\n",
      "[25296:MainThread](2023-06-24 11:21:45,313) WARNING - qlib.online operator - [exchange.py:216] - factor.day.bin file not exists or factor contains `nan`. Order using adjusted_price.\n",
      "[25296:MainThread](2023-06-24 11:21:45,315) WARNING - qlib.online operator - [exchange.py:218] - trade unit 100 is not supported in adjusted_price mode.\n",
      "[25296:MainThread](2023-06-24 11:21:55,136) WARNING - qlib.data - [data.py:662] - load calendar error: freq=day, future=True; return current calendar!\n",
      "[25296:MainThread](2023-06-24 11:21:55,139) WARNING - qlib.data - [data.py:665] - You can get future calendar by referring to the following document: https://github.com/microsoft/qlib/blob/main/scripts/data_collector/contrib/README.md\n",
      "[25296:MainThread](2023-06-24 11:21:55,160) WARNING - qlib.BaseExecutor - [executor.py:121] - `common_infra` is not set for <qlib.backtest.executor.SimulatorExecutor object at 0x7feb78f5b2b0>\n",
      "backtest loop: 100%|██████████| 871/871 [00:16<00:00, 52.93it/s]\n",
      "[25296:MainThread](2023-06-24 11:22:12,753) INFO - qlib.workflow - [record_temp.py:499] - Portfolio analysis record 'port_analysis_1day.pkl' has been saved as the artifact of the Experiment 2\n",
      "[25296:MainThread](2023-06-24 11:22:12,765) INFO - qlib.workflow - [record_temp.py:524] - Indicator analysis record 'indicator_analysis_1day.pkl' has been saved as the artifact of the Experiment 2\n",
      "[25296:MainThread](2023-06-24 11:22:12,832) INFO - qlib.timer - [log.py:117] - Time cost: 0.050s | waiting `async_log` Done\n"
     ]
    },
    {
     "name": "stdout",
     "output_type": "stream",
     "text": [
      "'The following are analysis results of benchmark return(1day).'\n",
      "                       risk\n",
      "mean               0.000477\n",
      "std                0.012295\n",
      "annualized_return  0.113561\n",
      "information_ratio  0.598699\n",
      "max_drawdown      -0.370479\n",
      "'The following are analysis results of the excess return without cost(1day).'\n",
      "                       risk\n",
      "mean               0.000348\n",
      "std                0.004981\n",
      "annualized_return  0.082848\n",
      "information_ratio  1.078201\n",
      "max_drawdown      -0.101280\n",
      "'The following are analysis results of the excess return with cost(1day).'\n",
      "                       risk\n",
      "mean               0.000168\n",
      "std                0.004980\n",
      "annualized_return  0.039908\n",
      "information_ratio  0.519487\n",
      "max_drawdown      -0.109592\n",
      "'The following are analysis results of indicators(1day).'\n",
      "     value\n",
      "ffr    1.0\n",
      "pa     0.0\n",
      "pos    0.0\n"
     ]
    }
   ],
   "source": [
    "###################################\n",
    "# prediction, backtest & analysis\n",
    "###################################\n",
    "port_analysis_config = {\n",
    "    \"executor\": {\n",
    "        \"class\": \"SimulatorExecutor\",\n",
    "        \"module_path\": \"qlib.backtest.executor\",\n",
    "        \"kwargs\": {\n",
    "            \"time_per_step\": \"day\",\n",
    "            \"generate_portfolio_metrics\": True,\n",
    "        },\n",
    "    },\n",
    "    \"strategy\": {\n",
    "        \"class\": \"TopkDropoutStrategy\",\n",
    "        \"module_path\": \"qlib.contrib.strategy\",\n",
    "        \"kwargs\": {\n",
    "            \"model\": model,\n",
    "            \"dataset\": dataset,\n",
    "            \"topk\": 50,\n",
    "            \"n_drop\": 5,\n",
    "        },\n",
    "    },\n",
    "    \"backtest\": {\n",
    "        \"start_time\": \"2017-01-01\",\n",
    "        \"end_time\": \"2020-08-01\",\n",
    "        \"account\": 100000000,\n",
    "        \"benchmark\": benchmark,\n",
    "        \"exchange_kwargs\": {\n",
    "            \"freq\": \"day\",\n",
    "            \"limit_threshold\": 0.095,\n",
    "            \"deal_price\": \"close\",\n",
    "            \"open_cost\": 0.0005,\n",
    "            \"close_cost\": 0.0015,\n",
    "            \"min_cost\": 5,\n",
    "        },\n",
    "    },\n",
    "}\n",
    "\n",
    "# backtest and analysis\n",
    "with R.start(experiment_name=\"backtest_analysis\"):\n",
    "    recorder = R.get_recorder(recorder_id=rid, experiment_name=\"train_model\")\n",
    "    model = recorder.load_object(\"trained_model\")\n",
    "\n",
    "    # prediction\n",
    "    recorder = R.get_recorder()\n",
    "    ba_rid = recorder.id\n",
    "    sr = SignalRecord(model, dataset, recorder)\n",
    "    sr.generate()\n",
    "\n",
    "    # backtest & analysis\n",
    "    par = PortAnaRecord(recorder, port_analysis_config, \"day\")\n",
    "    par.generate()"
   ]
  },
  {
   "cell_type": "code",
   "execution_count": 4,
   "metadata": {},
   "outputs": [
    {
     "name": "stdout",
     "output_type": "stream",
     "text": [
      "{'class': 'Recorder', 'id': 'f7dacf9d4f7e4f6f827b4594d337eef3', 'name': 'mlflow_recorder', 'experiment_id': '2', 'start_time': '2023-06-24 11:21:28', 'end_time': '2023-06-24 11:22:12', 'status': 'FINISHED'}\n"
     ]
    }
   ],
   "source": [
    "from qlib.contrib.report import analysis_model, analysis_position\n",
    "from qlib.data import D\n",
    "recorder = R.get_recorder(recorder_id=ba_rid, experiment_name=\"backtest_analysis\")\n",
    "print(recorder)\n",
    "pred_df = recorder.load_object(\"pred.pkl\")\n",
    "pred_df_dates = pred_df.index.get_level_values(level='datetime') #提取pred_df中的日期信息，将日期数据提取到pred_df_dates变量中。\n",
    "report_normal_df = recorder.load_object(\"portfolio_analysis/report_normal_1day.pkl\")#加载了保存的标准报告（portfolio report）数据，将其赋值给report_normal_df变量。\n",
    "positions = recorder.load_object(\"portfolio_analysis/positions_normal_1day.pkl\")#加载了保存的仓位数据，将其赋值给positions变量。\n",
    "analysis_df = recorder.load_object(\"portfolio_analysis/port_analysis_1day.pkl\")#加载了保存的组合分析数据，将其赋值给analysis_df变量。"
   ]
  },
  {
   "cell_type": "code",
   "execution_count": 5,
   "metadata": {},
   "outputs": [
    {
     "data": {
      "text/html": [
       "<div>\n",
       "<style scoped>\n",
       "    .dataframe tbody tr th:only-of-type {\n",
       "        vertical-align: middle;\n",
       "    }\n",
       "\n",
       "    .dataframe tbody tr th {\n",
       "        vertical-align: top;\n",
       "    }\n",
       "\n",
       "    .dataframe thead th {\n",
       "        text-align: right;\n",
       "    }\n",
       "</style>\n",
       "<table border=\"1\" class=\"dataframe\">\n",
       "  <thead>\n",
       "    <tr style=\"text-align: right;\">\n",
       "      <th></th>\n",
       "      <th></th>\n",
       "      <th>risk</th>\n",
       "    </tr>\n",
       "  </thead>\n",
       "  <tbody>\n",
       "    <tr>\n",
       "      <th rowspan=\"5\" valign=\"top\">excess_return_without_cost</th>\n",
       "      <th>mean</th>\n",
       "      <td>0.000348</td>\n",
       "    </tr>\n",
       "    <tr>\n",
       "      <th>std</th>\n",
       "      <td>0.004981</td>\n",
       "    </tr>\n",
       "    <tr>\n",
       "      <th>annualized_return</th>\n",
       "      <td>0.082848</td>\n",
       "    </tr>\n",
       "    <tr>\n",
       "      <th>information_ratio</th>\n",
       "      <td>1.078201</td>\n",
       "    </tr>\n",
       "    <tr>\n",
       "      <th>max_drawdown</th>\n",
       "      <td>-0.101280</td>\n",
       "    </tr>\n",
       "    <tr>\n",
       "      <th rowspan=\"5\" valign=\"top\">excess_return_with_cost</th>\n",
       "      <th>mean</th>\n",
       "      <td>0.000168</td>\n",
       "    </tr>\n",
       "    <tr>\n",
       "      <th>std</th>\n",
       "      <td>0.004980</td>\n",
       "    </tr>\n",
       "    <tr>\n",
       "      <th>annualized_return</th>\n",
       "      <td>0.039908</td>\n",
       "    </tr>\n",
       "    <tr>\n",
       "      <th>information_ratio</th>\n",
       "      <td>0.519487</td>\n",
       "    </tr>\n",
       "    <tr>\n",
       "      <th>max_drawdown</th>\n",
       "      <td>-0.109592</td>\n",
       "    </tr>\n",
       "  </tbody>\n",
       "</table>\n",
       "</div>"
      ],
      "text/plain": [
       "                                                  risk\n",
       "excess_return_without_cost mean               0.000348\n",
       "                           std                0.004981\n",
       "                           annualized_return  0.082848\n",
       "                           information_ratio  1.078201\n",
       "                           max_drawdown      -0.101280\n",
       "excess_return_with_cost    mean               0.000168\n",
       "                           std                0.004980\n",
       "                           annualized_return  0.039908\n",
       "                           information_ratio  0.519487\n",
       "                           max_drawdown      -0.109592"
      ]
     },
     "execution_count": 5,
     "metadata": {},
     "output_type": "execute_result"
    }
   ],
   "source": [
    "analysis_df"
   ]
  },
  {
   "cell_type": "code",
   "execution_count": 6,
   "metadata": {},
   "outputs": [
    {
     "data": {
      "text/html": [
       "<div>\n",
       "<style scoped>\n",
       "    .dataframe tbody tr th:only-of-type {\n",
       "        vertical-align: middle;\n",
       "    }\n",
       "\n",
       "    .dataframe tbody tr th {\n",
       "        vertical-align: top;\n",
       "    }\n",
       "\n",
       "    .dataframe thead th {\n",
       "        text-align: right;\n",
       "    }\n",
       "</style>\n",
       "<table border=\"1\" class=\"dataframe\">\n",
       "  <thead>\n",
       "    <tr style=\"text-align: right;\">\n",
       "      <th></th>\n",
       "      <th></th>\n",
       "      <th>risk</th>\n",
       "    </tr>\n",
       "  </thead>\n",
       "  <tbody>\n",
       "    <tr>\n",
       "      <th rowspan=\"5\" valign=\"top\">excess_return_without_cost</th>\n",
       "      <th>mean</th>\n",
       "      <td>0.000348</td>\n",
       "    </tr>\n",
       "    <tr>\n",
       "      <th>std</th>\n",
       "      <td>0.004981</td>\n",
       "    </tr>\n",
       "    <tr>\n",
       "      <th>annualized_return</th>\n",
       "      <td>0.082848</td>\n",
       "    </tr>\n",
       "    <tr>\n",
       "      <th>information_ratio</th>\n",
       "      <td>1.078201</td>\n",
       "    </tr>\n",
       "    <tr>\n",
       "      <th>max_drawdown</th>\n",
       "      <td>-0.101280</td>\n",
       "    </tr>\n",
       "    <tr>\n",
       "      <th rowspan=\"5\" valign=\"top\">excess_return_with_cost</th>\n",
       "      <th>mean</th>\n",
       "      <td>0.000168</td>\n",
       "    </tr>\n",
       "    <tr>\n",
       "      <th>std</th>\n",
       "      <td>0.004980</td>\n",
       "    </tr>\n",
       "    <tr>\n",
       "      <th>annualized_return</th>\n",
       "      <td>0.039908</td>\n",
       "    </tr>\n",
       "    <tr>\n",
       "      <th>information_ratio</th>\n",
       "      <td>0.519487</td>\n",
       "    </tr>\n",
       "    <tr>\n",
       "      <th>max_drawdown</th>\n",
       "      <td>-0.109592</td>\n",
       "    </tr>\n",
       "  </tbody>\n",
       "</table>\n",
       "</div>"
      ],
      "text/plain": [
       "                                                  risk\n",
       "excess_return_without_cost mean               0.000348\n",
       "                           std                0.004981\n",
       "                           annualized_return  0.082848\n",
       "                           information_ratio  1.078201\n",
       "                           max_drawdown      -0.101280\n",
       "excess_return_with_cost    mean               0.000168\n",
       "                           std                0.004980\n",
       "                           annualized_return  0.039908\n",
       "                           information_ratio  0.519487\n",
       "                           max_drawdown      -0.109592"
      ]
     },
     "execution_count": 6,
     "metadata": {},
     "output_type": "execute_result"
    }
   ],
   "source": [
    "analysis_df"
   ]
  },
  {
   "cell_type": "code",
   "execution_count": 9,
   "metadata": {},
   "outputs": [
    {
     "data": {
      "text/plain": [
       "[{'class': qlib.workflow.record_temp.SignalRecord,\n",
       "  'module_path': 'qlib.workflow.record_temp',\n",
       "  'kwargs': {'model': '<MODEL>', 'dataset': '<DATASET>'}},\n",
       " {'class': qlib.workflow.record_temp.SigAnaRecord,\n",
       "  'module_path': 'qlib.workflow.record_temp',\n",
       "  'kwargs': {'ana_long_short': False, 'ann_scaler': 252}},\n",
       " {'class': qlib.workflow.record_temp.PortAnaRecord,\n",
       "  'module_path': 'qlib.workflow.record_temp',\n",
       "  'kwargs': {'config': '*port_analysis_config'}}]"
      ]
     },
     "execution_count": 9,
     "metadata": {},
     "output_type": "execute_result"
    },
    {
     "ename": "",
     "evalue": "",
     "output_type": "error",
     "traceback": [
      "\u001b[1;31m在当前单元格或上一个单元格中执行代码时 Kernel 崩溃。请查看单元格中的代码，以确定故障的可能原因。有关详细信息，请单击 <a href='https://aka.ms/vscodeJupyterKernelCrash'>此处</a>。有关更多详细信息，请查看 Jupyter <a href='command:jupyter.viewOutput'>log</a>。"
     ]
    }
   ],
   "source": [
    "from qlib.workflow.record_temp import SignalRecord, SigAnaRecord, PortAnaRecord\n",
    "\n",
    "record_config = [\n",
    "    {\n",
    "        \"class\": SignalRecord,\n",
    "        \"module_path\": \"qlib.workflow.record_temp\",\n",
    "        \"kwargs\": {\n",
    "            \"model\": \"<MODEL>\",\n",
    "            \"dataset\": \"<DATASET>\"\n",
    "        }\n",
    "    },\n",
    "    {\n",
    "        \"class\": SigAnaRecord,\n",
    "        \"module_path\": \"qlib.workflow.record_temp\",\n",
    "        \"kwargs\": {\n",
    "            \"ana_long_short\": False,\n",
    "            \"ann_scaler\": 252\n",
    "        }\n",
    "    },\n",
    "    {\n",
    "        \"class\": PortAnaRecord,\n",
    "        \"module_path\": \"qlib.workflow.record_temp\",\n",
    "        \"kwargs\": {\n",
    "            \"config\": \"*port_analysis_config\"\n",
    "        }\n",
    "    }\n",
    "]\n",
    "record_config\n"
   ]
  }
 ],
 "metadata": {
  "kernelspec": {
   "display_name": "seg",
   "language": "python",
   "name": "python3"
  },
  "language_info": {
   "codemirror_mode": {
    "name": "ipython",
    "version": 3
   },
   "file_extension": ".py",
   "mimetype": "text/x-python",
   "name": "python",
   "nbconvert_exporter": "python",
   "pygments_lexer": "ipython3",
   "version": "3.8.13"
  },
  "orig_nbformat": 4
 },
 "nbformat": 4,
 "nbformat_minor": 2
}
